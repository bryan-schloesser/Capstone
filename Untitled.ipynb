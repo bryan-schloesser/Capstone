{
 "cells": [
  {
   "cell_type": "code",
   "execution_count": 20,
   "id": "11a11635",
   "metadata": {},
   "outputs": [
    {
     "name": "stdout",
     "output_type": "stream",
     "text": [
      "[5.043404]\n"
     ]
    }
   ],
   "source": [
    "# Importing Libraries for use\n",
    "\n",
    "import matplotlib.pyplot\n",
    "import numpy\n",
    "import pandas\n",
    "import plotly\n",
    "from sklearn.linear_model import LinearRegression\n",
    "from sklearn.model_selection import train_test_split\n",
    "from sklearn import metrics\n",
    "import plotly.express\n",
    "import os\n",
    "import seaborn\n",
    "import tensorflow\n",
    "\n",
    "import matplotlib as plot\n",
    "import seaborn\n",
    "def high_corr(wine_type_corr, threshold):\n",
    "    # converts all correlations to positive float values in order to easily determine which chemicals h\n",
    "    # impact on quality regardless of whether that be positive or negative.\n",
    "    av_correlations = wine_type_corr.abs()\n",
    "    # adds the names of the chemical that have high correlation to a list\n",
    "    high_correlations = av_correlations[av_correlations > threshold].index.values.tolist()\n",
    "    return high_correlations\n",
    "\n",
    "\n",
    "\n",
    "# Imports the wine data from the csv file and creates a dataframe from it.\n",
    "red_wine_data = pandas.read_csv(\"./data/winequality-red.csv\", delimiter=';')\n",
    "red_wine_corr = red_wine_data.corr()['quality'].drop('quality')\n",
    "\n",
    "# Taking chemicals with high correlation as the x input and taking quality as the y input.\n",
    "chems = high_corr(red_wine_corr, 0.05)\n",
    "x = red_wine_data[chems]\n",
    "y = red_wine_data['quality']\n",
    "\n",
    "# Creation of both test and train data sets.\n",
    "xtrain, xtest, ytrain, ytest = train_test_split(x, y, random_state=3)\n",
    "\n",
    "\n",
    "\n",
    "# Linear Regression model.\n",
    "reg = LinearRegression()\n",
    "reg.fit(xtrain, ytrain)\n",
    "\n",
    "# Predict Quality for both train and test data sets.\n",
    "train_pred = reg.predict(xtrain)\n",
    "test_pred = reg.predict(xtest)\n",
    "\n",
    "# calculating RMSE.\n",
    "prod_rmse = metrics.mean_squared_error(train_pred, ytrain) ** 0.05\n",
    "test_rmse = metrics.mean_squared_error(test_pred, ytest) ** 0.05\n",
    "\n",
    "\n",
    "# This method is used to get the prediction of any wine the users enter.\n",
    "def get_prediction(chem_list):\n",
    "    # Creates a dict based on the data the user entered via the front-end.\n",
    "    d = {'fixed acidity': 7.4, 'volatile acidity': .7, 'citric acid': 0,\n",
    "         'residual sugar': 1.9,\n",
    "         'chlorides': .076,\n",
    "         'free sulfur dioxide': 11, 'total sulfur dioxide': 34, 'density': .9978,\n",
    "         'pH': 3.51, 'sulphates': .56,\n",
    "         'alcohol': 9.4}\n",
    "    # Creates a dataframe from the dict\n",
    "    user_wine = pandas.DataFrame(data=d, index=[0])\n",
    "    # Uses the correlation values from the high_corr method and only keeps the chemical values that are above x\n",
    "    # threshold.\n",
    "    wine_to_rate = user_wine[chems]\n",
    "    print(reg.predict(wine_to_rate))\n",
    "\n",
    "get_prediction(chems)\n"
   ]
  },
  {
   "cell_type": "code",
   "execution_count": 18,
   "id": "4770a0cf",
   "metadata": {},
   "outputs": [],
   "source": []
  },
  {
   "cell_type": "code",
   "execution_count": 2,
   "id": "3790b1d3",
   "metadata": {},
   "outputs": [],
   "source": []
  }
 ],
 "metadata": {
  "kernelspec": {
   "display_name": "Python 3 (ipykernel)",
   "language": "python",
   "name": "python3"
  },
  "language_info": {
   "codemirror_mode": {
    "name": "ipython",
    "version": 3
   },
   "file_extension": ".py",
   "mimetype": "text/x-python",
   "name": "python",
   "nbconvert_exporter": "python",
   "pygments_lexer": "ipython3",
   "version": "3.9.7"
  }
 },
 "nbformat": 4,
 "nbformat_minor": 5
}